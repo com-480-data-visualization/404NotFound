{
 "cells": [
  {
   "cell_type": "markdown",
   "id": "dd531f2f-561b-474a-91a8-8f674436b5de",
   "metadata": {},
   "source": [
    "# Milestone 1"
   ]
  },
  {
   "cell_type": "markdown",
   "id": "4aa970ec-3095-4891-9f9c-2a7d597b5474",
   "metadata": {},
   "source": [
    "## 1. Introduction"
   ]
  },
  {
   "cell_type": "markdown",
   "id": "7e8b83ff-5f03-433c-9a75-16552ef4352b",
   "metadata": {},
   "source": [
    "### Context"
   ]
  },
  {
   "cell_type": "markdown",
   "id": "e409d093-57a2-4f09-bfc2-6555be4028c7",
   "metadata": {},
   "source": [
    "The film industry is one of the most influential and profitable entertainment sectors worldwide. Understanding movie trends, audience preferences, and financial performance is crucial for filmmakers, production companies, and marketers. This project aims to analyze a dataset spanning over 60 years of cinematic history, providing insights into key movie characteristics, financial success, and audience reception."
   ]
  },
  {
   "cell_type": "markdown",
   "id": "fbd4ca4d-9b66-4247-9db2-e68d39662530",
   "metadata": {},
   "source": [
    "## Why This Subject?"
   ]
  },
  {
   "cell_type": "markdown",
   "id": "7842275e-7df3-461c-91b7-7c7331778054",
   "metadata": {},
   "source": [
    "The movie industry has evolved significantly over the decades, with changes in genres, production budgets, audience expectations, and technological advancements. By analyzing historical data, we can identify trends in movie success factors, such as:\n",
    "\n",
    "- How have IMDb ratings evolved over time?\n",
    "- What factors contribute to higher box office revenues?\n",
    "- How does the role of directors, writers, and actors influence movie success?"
   ]
  },
  {
   "cell_type": "markdown",
   "id": "b7198603-8416-40cb-b41f-500f0932deb2",
   "metadata": {},
   "source": [
    "### Objectives"
   ]
  },
  {
   "cell_type": "markdown",
   "id": "50286279-01a7-4066-a86d-0a43a76db3bd",
   "metadata": {},
   "source": [
    "The main goals of this project are:\n",
    "\n",
    "- Analyze IMDb ratings and trends over time.\n",
    "- Identify financial patterns in terms of budgets and box office performance.\n",
    "- Explore correlations between movie attributes (e.g., genres, directors, production companies) and audience reception.\n",
    "- Provide insights into key industry trends based on historical data."
   ]
  },
  {
   "cell_type": "markdown",
   "id": "e19b1c07-9b97-4e25-9ef6-da7717ad1d9d",
   "metadata": {},
   "source": [
    "## 2. Dataset"
   ]
  },
  {
   "cell_type": "markdown",
   "id": "a7466fbe-ceab-44fc-9f79-95ef8899bc61",
   "metadata": {},
   "source": [
    "This dataset provides annual data for the most popular 500–600 movies per year from 1960 to 2024, extracted from IMDb. It includes over 30,000 movies spanning more than 60 years. The data is structured into three CSV files per year:"
   ]
  },
  {
   "cell_type": "markdown",
   "id": "553200c6-d597-4463-8ce4-be79b8676e2e",
   "metadata": {},
   "source": [
    "## 3. Exploratory Data Analysis"
   ]
  },
  {
   "cell_type": "markdown",
   "id": "d3dd3a96-1ff8-4191-9571-95a73d536d27",
   "metadata": {},
   "source": [
    "## 4. Related Work"
   ]
  },
  {
   "cell_type": "markdown",
   "id": "d6b32024-52a6-40f8-bb20-41e56a4da8ab",
   "metadata": {},
   "source": [
    "Several research studies have explored movie success factors using IMDb and box office data. Some key references include:\n",
    "\n",
    "- Lash & Zhao (2016): Analysis of IMDb ratings and their correlation with box office revenue.\n",
    "- Eliashberg et al. (2006): Predicting movie success using machine learning models.\n",
    "- Ghiassi et al. (2015): The impact of marketing strategies on movie profitability.\n",
    "-IMDB Research: Various case studies on user ratings and audience engagement.\n",
    "\n",
    "Our project will build upon these works by leveraging a larger dataset spanning over 60 years, incorporating both financial and audience-based metrics to derive insights into long-term trends in the film industry."
   ]
  },
  {
   "cell_type": "code",
   "execution_count": null,
   "id": "fae6fcc9-1cd8-4e4e-9791-256bf4aeb088",
   "metadata": {},
   "outputs": [],
   "source": []
  },
  {
   "cell_type": "code",
   "execution_count": null,
   "id": "c83c2934-7010-4a7d-be11-c63ff8a5246f",
   "metadata": {},
   "outputs": [],
   "source": []
  }
 ],
 "metadata": {
  "kernelspec": {
   "display_name": "Python 3 (ipykernel)",
   "language": "python",
   "name": "python3"
  },
  "language_info": {
   "codemirror_mode": {
    "name": "ipython",
    "version": 3
   },
   "file_extension": ".py",
   "mimetype": "text/x-python",
   "name": "python",
   "nbconvert_exporter": "python",
   "pygments_lexer": "ipython3",
   "version": "3.12.7"
  }
 },
 "nbformat": 4,
 "nbformat_minor": 5
}
