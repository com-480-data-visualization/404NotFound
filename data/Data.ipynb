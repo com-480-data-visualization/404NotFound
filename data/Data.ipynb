{
 "cells": [
  {
   "cell_type": "markdown",
   "id": "f6b5a47a-d919-44a5-8402-a3aa241f5875",
   "metadata": {},
   "source": [
    "# Dataset processing for web visualization"
   ]
  },
  {
   "cell_type": "markdown",
   "id": "ab4de745-1899-434b-8969-ffd90becfc84",
   "metadata": {},
   "source": [
    "We already performed some initial processing while exploring the dataset in the milestones1 notebook. Let's now prepare the dataset for web visualization."
   ]
  },
  {
   "cell_type": "code",
   "execution_count": 1,
   "id": "1aef80d6-4fc3-4b27-9887-c622f43124d0",
   "metadata": {},
   "outputs": [],
   "source": [
    "import pandas as pd\n",
    "import numpy as np"
   ]
  },
  {
   "cell_type": "code",
   "execution_count": 3,
   "id": "34ff5e46-aad1-4cd7-929a-2c6b88691fd8",
   "metadata": {},
   "outputs": [
    {
     "data": {
      "text/html": [
       "<div>\n",
       "<style scoped>\n",
       "    .dataframe tbody tr th:only-of-type {\n",
       "        vertical-align: middle;\n",
       "    }\n",
       "\n",
       "    .dataframe tbody tr th {\n",
       "        vertical-align: top;\n",
       "    }\n",
       "\n",
       "    .dataframe thead th {\n",
       "        text-align: right;\n",
       "    }\n",
       "</style>\n",
       "<table border=\"1\" class=\"dataframe\">\n",
       "  <thead>\n",
       "    <tr style=\"text-align: right;\">\n",
       "      <th></th>\n",
       "      <th>title</th>\n",
       "      <th>movie_link</th>\n",
       "      <th>year</th>\n",
       "      <th>duration</th>\n",
       "      <th>mpa_rating</th>\n",
       "      <th>rating</th>\n",
       "      <th>budget</th>\n",
       "      <th>gross_worldwide</th>\n",
       "      <th>gross_us_canada</th>\n",
       "      <th>opening_weekend_gross</th>\n",
       "      <th>...</th>\n",
       "      <th>filming_locations</th>\n",
       "      <th>production_companies</th>\n",
       "      <th>languages</th>\n",
       "      <th>wins</th>\n",
       "      <th>nominations</th>\n",
       "      <th>oscars</th>\n",
       "      <th>votes_K</th>\n",
       "      <th>duration_min</th>\n",
       "      <th>genre_grouped</th>\n",
       "      <th>ROI</th>\n",
       "    </tr>\n",
       "  </thead>\n",
       "  <tbody>\n",
       "    <tr>\n",
       "      <th>0</th>\n",
       "      <td>Swiss Family Robinson</td>\n",
       "      <td>https://www.imdb.com/title/tt0054357/?ref_=sr_t_1</td>\n",
       "      <td>1960</td>\n",
       "      <td>2h 6m</td>\n",
       "      <td>Approved</td>\n",
       "      <td>7.1</td>\n",
       "      <td>5000000.0</td>\n",
       "      <td>40357287.0</td>\n",
       "      <td>40356000.0</td>\n",
       "      <td>NaN</td>\n",
       "      <td>...</td>\n",
       "      <td>['Tobago, Trinidad and Tobago']</td>\n",
       "      <td>['Walt Disney Productions']</td>\n",
       "      <td>['English', 'Malay']</td>\n",
       "      <td>0</td>\n",
       "      <td>0</td>\n",
       "      <td>0</td>\n",
       "      <td>19.0</td>\n",
       "      <td>126.0</td>\n",
       "      <td>['Adventure']</td>\n",
       "      <td>7.071457</td>\n",
       "    </tr>\n",
       "    <tr>\n",
       "      <th>1</th>\n",
       "      <td>Psycho</td>\n",
       "      <td>https://www.imdb.com/title/tt0054215/?ref_=sr_t_2</td>\n",
       "      <td>1960</td>\n",
       "      <td>1h 49m</td>\n",
       "      <td>R</td>\n",
       "      <td>8.5</td>\n",
       "      <td>806947.0</td>\n",
       "      <td>32066835.0</td>\n",
       "      <td>32000000.0</td>\n",
       "      <td>NaN</td>\n",
       "      <td>...</td>\n",
       "      <td>['Psycho House and Bates Motel, Backlot Univer...</td>\n",
       "      <td>['Alfred J. Hitchcock Productions', 'Shamley P...</td>\n",
       "      <td>['English']</td>\n",
       "      <td>0</td>\n",
       "      <td>14</td>\n",
       "      <td>4</td>\n",
       "      <td>741.0</td>\n",
       "      <td>109.0</td>\n",
       "      <td>['Horror', 'Thriller']</td>\n",
       "      <td>38.738465</td>\n",
       "    </tr>\n",
       "    <tr>\n",
       "      <th>2</th>\n",
       "      <td>The Apartment</td>\n",
       "      <td>https://www.imdb.com/title/tt0053604/?ref_=sr_t_3</td>\n",
       "      <td>1960</td>\n",
       "      <td>2h 5m</td>\n",
       "      <td>Approved</td>\n",
       "      <td>8.3</td>\n",
       "      <td>3000000.0</td>\n",
       "      <td>18778738.0</td>\n",
       "      <td>18600000.0</td>\n",
       "      <td>NaN</td>\n",
       "      <td>...</td>\n",
       "      <td>['Majestic Theater, 247 West 44th Street, Manh...</td>\n",
       "      <td>['The Mirisch Corporation']</td>\n",
       "      <td>['English']</td>\n",
       "      <td>0</td>\n",
       "      <td>8</td>\n",
       "      <td>0</td>\n",
       "      <td>204.0</td>\n",
       "      <td>125.0</td>\n",
       "      <td>['Drama', 'Romance', 'Comedy']</td>\n",
       "      <td>5.259579</td>\n",
       "    </tr>\n",
       "    <tr>\n",
       "      <th>3</th>\n",
       "      <td>Spartacus</td>\n",
       "      <td>https://www.imdb.com/title/tt0054331/?ref_=sr_t_4</td>\n",
       "      <td>1960</td>\n",
       "      <td>3h 17m</td>\n",
       "      <td>PG-13</td>\n",
       "      <td>7.9</td>\n",
       "      <td>12000000.0</td>\n",
       "      <td>1846975.0</td>\n",
       "      <td>1830650.0</td>\n",
       "      <td>92162.0</td>\n",
       "      <td>...</td>\n",
       "      <td>['Hearst Castle, San Simeon, California, USA']</td>\n",
       "      <td>['Bryna Productions']</td>\n",
       "      <td>['English']</td>\n",
       "      <td>0</td>\n",
       "      <td>11</td>\n",
       "      <td>0</td>\n",
       "      <td>146.0</td>\n",
       "      <td>197.0</td>\n",
       "      <td>['Adventure', 'Drama', 'War &amp; History']</td>\n",
       "      <td>-0.846085</td>\n",
       "    </tr>\n",
       "    <tr>\n",
       "      <th>4</th>\n",
       "      <td>Breathless</td>\n",
       "      <td>https://www.imdb.com/title/tt0053472/?ref_=sr_t_5</td>\n",
       "      <td>1960</td>\n",
       "      <td>1h 30m</td>\n",
       "      <td>Not Rated</td>\n",
       "      <td>7.7</td>\n",
       "      <td>400000.0</td>\n",
       "      <td>594039.0</td>\n",
       "      <td>414173.0</td>\n",
       "      <td>32424.0</td>\n",
       "      <td>...</td>\n",
       "      <td>['11 rue Campagne Première, Paris 14, Paris, F...</td>\n",
       "      <td>['Les Films Impéria', 'Les Productions Georges...</td>\n",
       "      <td>['French', 'English']</td>\n",
       "      <td>0</td>\n",
       "      <td>4</td>\n",
       "      <td>1</td>\n",
       "      <td>90.0</td>\n",
       "      <td>90.0</td>\n",
       "      <td>['Drama', 'Crime']</td>\n",
       "      <td>0.485098</td>\n",
       "    </tr>\n",
       "  </tbody>\n",
       "</table>\n",
       "<p>5 rows × 25 columns</p>\n",
       "</div>"
      ],
      "text/plain": [
       "                   title                                         movie_link  \\\n",
       "0  Swiss Family Robinson  https://www.imdb.com/title/tt0054357/?ref_=sr_t_1   \n",
       "1                 Psycho  https://www.imdb.com/title/tt0054215/?ref_=sr_t_2   \n",
       "2          The Apartment  https://www.imdb.com/title/tt0053604/?ref_=sr_t_3   \n",
       "3              Spartacus  https://www.imdb.com/title/tt0054331/?ref_=sr_t_4   \n",
       "4             Breathless  https://www.imdb.com/title/tt0053472/?ref_=sr_t_5   \n",
       "\n",
       "   year duration mpa_rating  rating      budget  gross_worldwide  \\\n",
       "0  1960    2h 6m   Approved     7.1   5000000.0       40357287.0   \n",
       "1  1960   1h 49m          R     8.5    806947.0       32066835.0   \n",
       "2  1960    2h 5m   Approved     8.3   3000000.0       18778738.0   \n",
       "3  1960   3h 17m      PG-13     7.9  12000000.0        1846975.0   \n",
       "4  1960   1h 30m  Not Rated     7.7    400000.0         594039.0   \n",
       "\n",
       "   gross_us_canada  opening_weekend_gross  ...  \\\n",
       "0       40356000.0                    NaN  ...   \n",
       "1       32000000.0                    NaN  ...   \n",
       "2       18600000.0                    NaN  ...   \n",
       "3        1830650.0                92162.0  ...   \n",
       "4         414173.0                32424.0  ...   \n",
       "\n",
       "                                   filming_locations  \\\n",
       "0                    ['Tobago, Trinidad and Tobago']   \n",
       "1  ['Psycho House and Bates Motel, Backlot Univer...   \n",
       "2  ['Majestic Theater, 247 West 44th Street, Manh...   \n",
       "3     ['Hearst Castle, San Simeon, California, USA']   \n",
       "4  ['11 rue Campagne Première, Paris 14, Paris, F...   \n",
       "\n",
       "                                production_companies              languages  \\\n",
       "0                        ['Walt Disney Productions']   ['English', 'Malay']   \n",
       "1  ['Alfred J. Hitchcock Productions', 'Shamley P...            ['English']   \n",
       "2                        ['The Mirisch Corporation']            ['English']   \n",
       "3                              ['Bryna Productions']            ['English']   \n",
       "4  ['Les Films Impéria', 'Les Productions Georges...  ['French', 'English']   \n",
       "\n",
       "  wins nominations oscars votes_K duration_min  \\\n",
       "0    0           0      0    19.0        126.0   \n",
       "1    0          14      4   741.0        109.0   \n",
       "2    0           8      0   204.0        125.0   \n",
       "3    0          11      0   146.0        197.0   \n",
       "4    0           4      1    90.0         90.0   \n",
       "\n",
       "                             genre_grouped        ROI  \n",
       "0                            ['Adventure']   7.071457  \n",
       "1                   ['Horror', 'Thriller']  38.738465  \n",
       "2           ['Drama', 'Romance', 'Comedy']   5.259579  \n",
       "3  ['Adventure', 'Drama', 'War & History']  -0.846085  \n",
       "4                       ['Drama', 'Crime']   0.485098  \n",
       "\n",
       "[5 rows x 25 columns]"
      ]
     },
     "execution_count": 3,
     "metadata": {},
     "output_type": "execute_result"
    }
   ],
   "source": [
    "df = pd.read_csv(\"data_v1.csv\", delimiter = \";\")\n",
    "df.head()"
   ]
  },
  {
   "cell_type": "markdown",
   "id": "65d0d804-4cb1-40bc-9b60-9d786fdce883",
   "metadata": {},
   "source": [
    "# Intervals for budget, gross and ratings"
   ]
  },
  {
   "cell_type": "code",
   "execution_count": 5,
   "id": "d2243f94-affc-4d0b-b26d-52196425d32f",
   "metadata": {},
   "outputs": [
    {
     "data": {
      "text/plain": [
       "1.0"
      ]
     },
     "execution_count": 5,
     "metadata": {},
     "output_type": "execute_result"
    }
   ],
   "source": [
    "df['budget'].min()"
   ]
  },
  {
   "cell_type": "code",
   "execution_count": 6,
   "id": "55222cd5-5948-4862-8fda-c4671ac97f65",
   "metadata": {},
   "outputs": [
    {
     "data": {
      "text/plain": [
       "300000000000.0"
      ]
     },
     "execution_count": 6,
     "metadata": {},
     "output_type": "execute_result"
    }
   ],
   "source": [
    "df['budget'].max()"
   ]
  },
  {
   "cell_type": "code",
   "execution_count": 7,
   "id": "e8b7e1f4-5d6e-4116-872c-42a0bef7e1aa",
   "metadata": {},
   "outputs": [
    {
     "name": "stdout",
     "output_type": "stream",
     "text": [
      "       budget budget_category\n",
      "0   5000000.0      Low Budget\n",
      "1    806947.0      Low Budget\n",
      "2   3000000.0      Low Budget\n",
      "3  12000000.0      Low Budget\n",
      "4    400000.0      Low Budget\n"
     ]
    }
   ],
   "source": [
    "import pandas as pd\n",
    "\n",
    "# Define the budget categories using pd.cut()\n",
    "bins = [0, 50000000, 200000000, 300000000000]  # Budget intervals\n",
    "labels = ['Low Budget', 'Mid Budget', 'High Budget']  # Category labels\n",
    "\n",
    "# Create a new column 'budget_category' to store the category for each film\n",
    "df['budget_category'] = pd.cut(df['budget'], bins=bins, labels=labels, right=False)\n",
    "\n",
    "# Display the result\n",
    "print(df[['budget', 'budget_category']].head())\n"
   ]
  },
  {
   "cell_type": "code",
   "execution_count": null,
   "id": "dff8eec9-be03-4132-a4c4-395bc31d73ad",
   "metadata": {},
   "outputs": [],
   "source": [
    "def budget_category(budget):\n",
    "    if pd.isna(budget):\n",
    "        return None\n",
    "    elif budget < 10000000:\n",
    "        return '0–10M'\n",
    "    elif budget < 30_000_000:\n",
    "        return '10–30M'\n",
    "    elif budget < 60_000_000:\n",
    "        return '30–60M'\n",
    "    elif budget < 100_000_000:\n",
    "        return '60–100M'\n",
    "    else:\n",
    "        return '100M+'\n",
    "\n",
    "df['budget_category'] = df['budget'].apply(budget_category)\n"
   ]
  }
 ],
 "metadata": {
  "kernelspec": {
   "display_name": "Python 3 (ipykernel)",
   "language": "python",
   "name": "python3"
  },
  "language_info": {
   "codemirror_mode": {
    "name": "ipython",
    "version": 3
   },
   "file_extension": ".py",
   "mimetype": "text/x-python",
   "name": "python",
   "nbconvert_exporter": "python",
   "pygments_lexer": "ipython3",
   "version": "3.12.7"
  }
 },
 "nbformat": 4,
 "nbformat_minor": 5
}
